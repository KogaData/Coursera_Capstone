{
    "nbformat_minor": 1, 
    "cells": [
        {
            "source": "# Problem Statement and discussion of the background", 
            "cell_type": "markdown", 
            "metadata": {
                "collapsed": true
            }
        }, 
        {
            "source": "## Problem statement", 
            "cell_type": "markdown", 
            "metadata": {}
        }, 
        {
            "source": "EMKO holdings is one of the largest financial services providers in Canada with business services in both retail and investment banking. As part of its business expansion and market diversification strategies,\nEMKO holdings is contemplating on setting up another retail and investment banking centre in Bronx, one of the five boroughs of New York City, in US state of New York due to the state's business legislation that promotes foreign investment. As part of its market intelligence gathering, EMKO holdings is seeking to outsource market consultation in the examination, identification and recommendations on neighbourhoods of Bronx with potential banking business growth opportunities. ", 
            "cell_type": "markdown", 
            "metadata": {}
        }, 
        {
            "source": "## Background discussion", 
            "cell_type": "markdown", 
            "metadata": {}
        }, 
        {
            "source": "As part of its Financial risk management goals and portfolio diversification strategies, EMKO holdings seeks to expand and set-up banking business in Bronx, New York City. Bronx is the northmost of the five borughs of New York City, in the US state of New York with a land area of 42 square miles(109km squared) and population of 1 471 160 in 2017(https://en.wikipedia.org/wiki/The-Bronx). According to wikipedia information, Bronx contains the poorest congressional district the US but has a wide diversity of affluent, upper-income, and middle-income neighbourhoods. The Bronx which was mostly rural area for many generations,with small firms supplying the markets, underwent rapid urban growth after World War 1.<br>\nWhen a customer chooses banking service, convenience is a large part of the decision. Trips to the bank usually are part of the to-do list of a customer with other items, and it is importatnt that the bank be located close to its consumer market(https://www.htg-architects.com/blog/5-things-to-conside-when-selecting-a-site-for-your-new-bank). Marketing research is the systematic collection , analysis, and interpretation of data pertaining to the marketing conditions (https://businessjargons.com/marketing-research.html). Marketing research helps in gathering market information that is used in the recommendations for EMKO holdings.\nAs part of marketing research, market segmentation, is defined as the division of a mass market into identifiable and distinct groups or segments, each of which have common characteristics and needs and display similar responses to marketing actions. With information from market segmentation and using Porter's five forces analysis(https://www.indtools.com/pages/article/newTMC_08.htm) which provides a method of study an industry should consider and how high the power,threat, or rivalry is in each recommended area, we should draw up a SWOT analysis chart for EMKO holdings that we will use in our business recommendation.A SWOT analysis looks at a company's internal strengths and weaknesses and the external opportunities and threats within the market.", 
            "cell_type": "markdown", 
            "metadata": {}
        }, 
        {
            "execution_count": null, 
            "cell_type": "code", 
            "metadata": {}, 
            "outputs": [], 
            "source": ""
        }
    ], 
    "metadata": {
        "kernelspec": {
            "display_name": "Python 3.5", 
            "name": "python3", 
            "language": "python"
        }, 
        "language_info": {
            "mimetype": "text/x-python", 
            "nbconvert_exporter": "python", 
            "version": "3.5.5", 
            "name": "python", 
            "file_extension": ".py", 
            "pygments_lexer": "ipython3", 
            "codemirror_mode": {
                "version": 3, 
                "name": "ipython"
            }
        }
    }, 
    "nbformat": 4
}