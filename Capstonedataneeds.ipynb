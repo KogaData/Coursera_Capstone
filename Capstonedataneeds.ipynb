{
    "nbformat_minor": 1, 
    "cells": [
        {
            "source": "# Description of data and how it will be used to solve the problem ", 
            "cell_type": "markdown", 
            "metadata": {
                "collapsed": true
            }
        }, 
        {
            "source": "For bank site/location selection, we will carryout a market and demographic study to help determine the profitability of the banking branches. To locate and evaluate business sites, we will segment Bronx, a borough of New York City into different neighbourhoods using the geospatial coordinates of the center of each neighbour. The source of our data will be  https://geo.nyu.edu/catalog/nyu_2451_34572. <br>\nLocation data is data describing places, and venues, such as their geographical location, their categories, full address, etc, such that for a given location in the form of geographical coordinates(such as latitude,longitude) one is able to determnine what types of venues exist withing a defined radius from that location. For our location data, we are going to use the Foursquare API because it is cheaper to use, has a wide coverage, provide accurate data , is updated frequently and provide a free personal account which allows us to make upto 99500 similar calls per day, compared to other APIs such as Google Places and Yelp.\nTo use Foursquare API, you will need to open Foursquare account on www.foursquare.com and obtain the client_id and client_secret credentials that you will use to query the foursquare database. We also need the version of the API which is a date that gives developers the freedom to adapt to foursquare API changes on their own schedule.<br>\nWe need to explore neighbourhoods in Bronx, analyze each neighbourhood and segment them using foursquare API. We will use the explore function to get the most common venue categories in each neighbourhood, and use this feature to group neighbourhoods into clusters. In our analysis we will limit the number of neighbourhoods to 100 and the analyysis radius shall be 500m. We will use the folium library to visualize the neighbourhoods in Bronx, New York City and trending clusters. As we explore neighbourhoods in Bronx, we will identify trending venues, that is, venues that have the highest foot traffic when the call to the database is made. This information will help us determine areas where retail growth is. For many banks, business is heaviest during lunchtime and toward the end of the day, and knowledge about trending places will help us decide on number of banking services to put, like ATMs, Drive-Thru spaces etc. Trendng information also hepls in co-branding , that is, we can use popular venues in a cluster, like coffee shops,  and recommend for inclusion of, say, a coffee shop to enhance customer experience. In this project, trending also help us unpack possible difficulties in launching a new product\\service in a given neighbourhood due to competition from similar service providers already existing in the neighbourhood and those eyeing the same trending market areas as well. <br>\nCluster contents will help us check whether the proposed market is a buyer's market or a seller's market from our company's perspective and with trending information, we can identify neighbourhoods with high buyer power. Machine learning tools, and in particular, K-Means clustering will help us provide key statistical knowledge of a profitable location.", 
            "cell_type": "markdown", 
            "metadata": {}
        }, 
        {
            "execution_count": null, 
            "cell_type": "code", 
            "metadata": {}, 
            "outputs": [], 
            "source": ""
        }
    ], 
    "metadata": {
        "kernelspec": {
            "display_name": "Python 3.5", 
            "name": "python3", 
            "language": "python"
        }, 
        "language_info": {
            "mimetype": "text/x-python", 
            "nbconvert_exporter": "python", 
            "version": "3.5.5", 
            "name": "python", 
            "file_extension": ".py", 
            "pygments_lexer": "ipython3", 
            "codemirror_mode": {
                "version": 3, 
                "name": "ipython"
            }
        }
    }, 
    "nbformat": 4
}